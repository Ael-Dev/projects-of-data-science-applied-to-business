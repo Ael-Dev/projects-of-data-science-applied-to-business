{
 "cells": [
  {
   "cell_type": "markdown",
   "metadata": {},
   "source": [
    "<center>\n",
    "\n",
    "# **<font color='Purple'>BANK MARKETING</font>**"
   ]
  },
  {
   "cell_type": "markdown",
   "metadata": {},
   "source": [
    "<center>\n",
    "\n",
    "<image src=\"https://www.processmaker.com/wp-content/uploads/2020/04/banking-cover-1.png\" alt=\" \">"
   ]
  },
  {
   "cell_type": "markdown",
   "metadata": {},
   "source": [
    "## **<font color='Purple'>Comprensión del negocio</font>**"
   ]
  },
  {
   "cell_type": "markdown",
   "metadata": {},
   "source": [
    "Fuente de datos: [UCI Irvine ML Repository](https://archive.ics.uci.edu/dataset/222/bank+marketing)"
   ]
  },
  {
   "cell_type": "markdown",
   "metadata": {},
   "source": [
    "**Descripción general**\n",
    "\n",
    "Los datos están relacionados con campañas de marketing directo de una entidad bancaria portuguesa. Las campañas de marketing se basaban en llamadas telefónicas. A menudo, se requería más de un contacto con el mismo cliente para saber si el producto (depósito bancario a plazo) se suscribía (\"sí\") o no (\"no\"). \n"
   ]
  },
  {
   "cell_type": "markdown",
   "metadata": {},
   "source": [
    "* Deposito bancario a plazo: Son un tipo de operación financiera que consiste en depositar dinero por un periodo de tiempo específico a la espera de una rentabilidad segura -> [BBVA](https://www.bbva.pe/blog/mis-finanzas/inversiones/que-es-un-deposito-a-plazo-fijo.html).\n"
   ]
  },
  {
   "cell_type": "markdown",
   "metadata": {},
   "source": [
    "**Objetivo:**\n",
    "\n",
    "* Predecir si el cliente se suscribirá a un depósito a plazo (y)."
   ]
  },
  {
   "cell_type": "markdown",
   "metadata": {},
   "source": [
    "**Descripción de los datos**\n",
    "\n",
    "| N° | Características | Descripción |\n",
    "| --- | --- | --- |\n",
    "| 1 | age | Edad del cliente (numérica) |\n",
    "| 2 | job | Tipo de trabajo (categórica: \"admin.\",\"unknown\",\"unemployed\",\"management\",\"housemaid\",\"entrepreneur\",\"student\",\"blue-collar\",\"self-employed\",\"retired\",\"technician\",\"services\") |\n",
    "| 3 | marital | Estado civil (categórica: \"married\",\"divorced\",\"single\"; nota: \"divorced\" significa divorciado o viudo) |\n",
    "| 4 | education | Educación (categórica: \"unknown\",\"secondary\",\"primary\",\"tertiary\") |\n",
    "| 5 | default | ¿Tiene crédito en mora? (binaria: \"yes\",\"no\") |\n",
    "| 6 | balance | Saldo medio anual, en euros (numérica) |\n",
    "| 7 | housing | ¿Tiene préstamo hipotecario? (binaria: \"yes\",\"no\") |\n",
    "| 8 | loan | ¿Tiene préstamo personal? (binaria: \"yes\",\"no\") |\n",
    "| 9 | contact | Tipo de comunicación de contacto (categórica: \"unknown\",\"telephone\",\"cellular\") |\n",
    "| 10 | day | Último día de contacto del mes (numérica) |\n",
    "| 11 | month | Último mes de contacto del año (categórica: \"jan\", \"feb\", \"mar\", ..., \"nov\", \"dec\") |\n",
    "| 12 | duration | Duración del último contacto, en segundos (numérica) |\n",
    "| 13 | campaign | Número de contactos realizados durante esta campaña y para este cliente (numérica, incluye el último contacto) |\n",
    "| 14 | pdays | Número de días que han pasado desde que el cliente fue contactado por última vez desde una campaña anterior (numérica, -1 significa que el cliente no fue contactado previamente) |\n",
    "| 15 | previous | Número de contactos realizados antes de esta campaña y para este cliente (numérica) |\n",
    "| 16 | poutcome | Resultado de la campaña de marketing anterior (categórica: \"unknown\",\"other\",\"failure\",\"success\") |\n",
    "| 17 | y | ¿Ha suscrito el cliente un depósito a plazo? (binaria: \"yes\",\"no\") |\n"
   ]
  },
  {
   "cell_type": "markdown",
   "metadata": {},
   "source": [
    "### **<font color='Purple'>Flujo de trabajo</font>**"
   ]
  },
  {
   "cell_type": "markdown",
   "metadata": {},
   "source": [
    "![image.png](data/workflow.png)"
   ]
  },
  {
   "cell_type": "markdown",
   "metadata": {},
   "source": [
    "## **<font color='Purple'>Importar librerías</font>**"
   ]
  },
  {
   "cell_type": "code",
   "execution_count": null,
   "metadata": {},
   "outputs": [],
   "source": []
  },
  {
   "cell_type": "markdown",
   "metadata": {},
   "source": [
    "## **<font color='Purple'>Lectura de los datos</font>**"
   ]
  },
  {
   "cell_type": "code",
   "execution_count": null,
   "metadata": {},
   "outputs": [],
   "source": []
  },
  {
   "cell_type": "markdown",
   "metadata": {},
   "source": [
    "## **<font color='Purple'>Análisis exploratorio de los datos (EDA)</font>**"
   ]
  },
  {
   "cell_type": "code",
   "execution_count": null,
   "metadata": {},
   "outputs": [],
   "source": []
  },
  {
   "cell_type": "markdown",
   "metadata": {},
   "source": [
    "## **<font color='Purple'>Pre-procesamiento de los datos</font>**"
   ]
  },
  {
   "cell_type": "markdown",
   "metadata": {},
   "source": [
    "### **<font color='Purple'>Tratamiento de datos faltante</font>**"
   ]
  },
  {
   "cell_type": "code",
   "execution_count": null,
   "metadata": {},
   "outputs": [],
   "source": []
  },
  {
   "cell_type": "markdown",
   "metadata": {},
   "source": [
    "### **<font color='#7d2181'>Tratamiento de outliers</font>**"
   ]
  },
  {
   "cell_type": "code",
   "execution_count": null,
   "metadata": {},
   "outputs": [],
   "source": []
  },
  {
   "cell_type": "markdown",
   "metadata": {},
   "source": [
    "### **<font color='Purple'>Aplicación de pipelines en el preprocesamiento de datos</font>**"
   ]
  },
  {
   "cell_type": "code",
   "execution_count": null,
   "metadata": {},
   "outputs": [],
   "source": []
  },
  {
   "cell_type": "markdown",
   "metadata": {},
   "source": [
    "## **<font color='Purple'>Modelado</font>**"
   ]
  },
  {
   "cell_type": "code",
   "execution_count": null,
   "metadata": {},
   "outputs": [],
   "source": []
  },
  {
   "cell_type": "markdown",
   "metadata": {},
   "source": [
    "## **<font color='Purple'>Evaluación</font>**"
   ]
  },
  {
   "cell_type": "code",
   "execution_count": null,
   "metadata": {},
   "outputs": [],
   "source": []
  },
  {
   "cell_type": "markdown",
   "metadata": {},
   "source": [
    "## **<font color='Purple'>Predicción</font>**"
   ]
  },
  {
   "cell_type": "markdown",
   "metadata": {},
   "source": []
  }
 ],
 "metadata": {
  "language_info": {
   "name": "python"
  }
 },
 "nbformat": 4,
 "nbformat_minor": 2
}
