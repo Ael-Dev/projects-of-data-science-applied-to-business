{
 "cells": [
  {
   "cell_type": "markdown",
   "metadata": {},
   "source": [
    "<h1><font color=\"#004D7F\" size=7>Incumplimiento de pago de clientes de tarjetas de crédito</font></h1>\n",
    "\n",
    "<br><br>\n",
    "<div style=\"text-align: right\">\n",
    "<font color=\"#004D7F\" size=3>AEL-DEV</font><br>"
   ]
  },
  {
   "cell_type": "markdown",
   "metadata": {},
   "source": [
    "---\n",
    "\n",
    "<h2><font color=\"#004D7F\" size=6>Índice</font></h2>\n",
    "<a id=\"indice\"></a>\n",
    "\n",
    "* [1. Introducción](#section1)\n",
    "* [2. Cargar CSV](#section2)\n",
    "* [3. Descripción del conjunto de datos](#section3)\n",
    "* [4. Análisis exploratorio de los datos](#section4)\n",
    "    * [4.1. Análisis univariado](#section41)\n",
    "    * [4.2. Prueba de normalidad](#section42)\n",
    "    * [4.3. Análisis bivariado](#section43)\n",
    "    * [4.4. Análisis multivariado](#section44)\n",
    "* [5. Preprocesamiento de los datos](#section5)\n",
    "    * [5.1. Imputación de valores faltantes](#section51)\n",
    "    * [5.2. Tratamiento de outliers](#section52)\n",
    "    * [5.3. Escalamiento de los datos](#section53)\n",
    "    * [5.4. Division de los datos en entrenamiento y prueba](#section54)\n",
    "* [6. Modelado](#section6)\n",
    "    * [6.1. Elección de los algoritmos](#section61)\n",
    "    * [6.2. Entrenamiento](#section62)\n",
    "* [7. Evaluación del modelo 1](#section7)\n",
    "* [8. Ajuste de hiperparametros](#section8)\n",
    "    * [8.1. Entrenamiento](#section81)\n",
    "* [9. Evaluación del modelo 2](#section9)\n",
    "\n",
    "* [10. Selección de características](#section10)\n",
    "    * [10.1. Entrenamiento](#section101)\n",
    "* [11. Selección del mejor modelo](#section11)\n",
    "* [12. Implementación](#section12)\n",
    "* [13. Conclusiones](#section13)\n",
    "\n",
    "\n",
    "\n"
   ]
  },
  {
   "cell_type": "markdown",
   "metadata": {},
   "source": [
    "---\n",
    "\n",
    "<a id=\"section1\"></a>\n",
    "## <font color=\"#004D7F\" size=6> 1. Introducción</font>"
   ]
  },
  {
   "cell_type": "code",
   "execution_count": null,
   "metadata": {},
   "outputs": [],
   "source": []
  },
  {
   "cell_type": "markdown",
   "metadata": {},
   "source": [
    "---\n",
    "\n",
    "<a id=\"section2\"></a>\n",
    "## <font color=\"#004D7F\" size=6> 2. Cargar CSV</font>"
   ]
  },
  {
   "cell_type": "markdown",
   "metadata": {},
   "source": [
    "---\n",
    "\n",
    "<a id=\"section3\"></a>\n",
    "## <font color=\"#004D7F\" size=6> 3. Descripción del conjunto de datos</font>"
   ]
  },
  {
   "cell_type": "markdown",
   "metadata": {},
   "source": [
    "---\n",
    "\n",
    "<a id=\"section4\"></a>\n",
    "## <font color=\"#004D7F\" size=6> 4. Análisis exploratorio de los datos</font>"
   ]
  },
  {
   "cell_type": "markdown",
   "metadata": {},
   "source": [
    "\n",
    "<a id=\"section41\"></a>\n",
    "### <font color=\"#004D7F\" size=5> 4.1. Análisis univariado</font>"
   ]
  },
  {
   "cell_type": "markdown",
   "metadata": {},
   "source": [
    "\n",
    "<a id=\"section42\"></a>\n",
    "### <font color=\"#004D7F\" size=5> 4.2. Prueba de normalidad</font>"
   ]
  },
  {
   "cell_type": "markdown",
   "metadata": {},
   "source": [
    "\n",
    "<a id=\"section43\"></a>\n",
    "### <font color=\"#004D7F\" size=5> 4.3. Análisis bivariado</font>"
   ]
  },
  {
   "cell_type": "markdown",
   "metadata": {},
   "source": [
    "\n",
    "<a id=\"section44\"></a>\n",
    "### <font color=\"#004D7F\" size=5> 4.4. Análisis multivariado</font>"
   ]
  },
  {
   "cell_type": "markdown",
   "metadata": {},
   "source": [
    "---\n",
    "\n",
    "<a id=\"section5\"></a>\n",
    "## <font color=\"#004D7F\" size=6> 5. Preprocesamieto de los datos</font>"
   ]
  },
  {
   "cell_type": "markdown",
   "metadata": {},
   "source": [
    "\n",
    "<a id=\"section51\"></a>\n",
    "### <font color=\"#004D7F\" size=5> 5.1. Imputación de valores faltantes</font>"
   ]
  },
  {
   "cell_type": "markdown",
   "metadata": {},
   "source": [
    "\n",
    "<a id=\"section52\"></a>\n",
    "### <font color=\"#004D7F\" size=5> 5.2. Tratamiento de datos outliers</font>"
   ]
  },
  {
   "cell_type": "markdown",
   "metadata": {},
   "source": [
    "\n",
    "<a id=\"section53\"></a>\n",
    "### <font color=\"#004D7F\" size=5> 5.3. Escalamiento de los datos</font>"
   ]
  },
  {
   "cell_type": "markdown",
   "metadata": {},
   "source": [
    "\n",
    "<a id=\"section54\"></a>\n",
    "### <font color=\"#004D7F\" size=5> 5.4. División de los datos en entrenamiento y prueba</font>"
   ]
  },
  {
   "cell_type": "markdown",
   "metadata": {},
   "source": [
    "---\n",
    "\n",
    "<a id=\"section6\"></a>\n",
    "## <font color=\"#004D7F\" size=6> 6. Selección de modelos y entrenamiento</font>"
   ]
  },
  {
   "cell_type": "markdown",
   "metadata": {},
   "source": [
    "\n",
    "<a id=\"section61\"></a>\n",
    "### <font color=\"#004D7F\" size=5> 6.1. Elección de los algoritmos</font>"
   ]
  },
  {
   "cell_type": "markdown",
   "metadata": {},
   "source": [
    "\n",
    "<a id=\"section62\"></a>\n",
    "### <font color=\"#004D7F\" size=5> 6.2. Entrenamiento y validación 1</font>"
   ]
  },
  {
   "cell_type": "markdown",
   "metadata": {},
   "source": [
    "---\n",
    "\n",
    "<a id=\"section7\"></a>\n",
    "## <font color=\"#004D7F\" size=6> 7. Evaluación de los modelos 1</font>"
   ]
  },
  {
   "cell_type": "markdown",
   "metadata": {},
   "source": [
    "---\n",
    "\n",
    "<a id=\"section8\"></a>\n",
    "## <font color=\"#004D7F\" size=6> 8. Ajuste de hiperparámetros</font>"
   ]
  },
  {
   "cell_type": "markdown",
   "metadata": {},
   "source": [
    "---\n",
    "\n",
    "<a id=\"section9\"></a>\n",
    "## <font color=\"#004D7F\" size=6> 9. Evaluación de los modelos 2</font>"
   ]
  },
  {
   "cell_type": "markdown",
   "metadata": {},
   "source": [
    "---\n",
    "\n",
    "<a id=\"section10\"></a>\n",
    "## <font color=\"#004D7F\" size=6> 10. Selección de características</font>"
   ]
  },
  {
   "cell_type": "markdown",
   "metadata": {},
   "source": [
    "\n",
    "<a id=\"section101\"></a>\n",
    "### <font color=\"#004D7F\" size=5> 10.1. Entrenamiento y Evaluación 3</font>"
   ]
  }
 ],
 "metadata": {
  "language_info": {
   "name": "python"
  }
 },
 "nbformat": 4,
 "nbformat_minor": 2
}
